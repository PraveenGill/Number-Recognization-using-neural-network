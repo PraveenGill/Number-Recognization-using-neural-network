{
  "nbformat": 4,
  "nbformat_minor": 0,
  "metadata": {
    "colab": {
      "provenance": []
    },
    "kernelspec": {
      "name": "python3",
      "display_name": "Python 3"
    },
    "language_info": {
      "name": "python"
    }
  },
  "cells": [
    {
      "cell_type": "markdown",
      "source": [
        "**Handwritten Number recognition using MNIST dataset**"
      ],
      "metadata": {
        "id": "AC6nLVn_Ua5T"
      }
    },
    {
      "cell_type": "markdown",
      "source": [
        "Handwritten digit recognition using MNIST dataset is a major project made with the help of Neural Network. It basically detects the scanned images of handwritten digits.\n",
        " A neural network is a model inspired by how the brain works. It consists of multiple layers having many activations, this activation resembles neurons of our brain. A neural network tries to learn a set of parameters in a set of data which could help to recognize the underlying relationships. Neural networks can adapt to changing input; so the network generates the best possible result without needing to redesign the output criteria."
      ],
      "metadata": {
        "id": "GfWoDCzgpmFe"
      }
    },
    {
      "cell_type": "markdown",
      "source": [
        "## **Import Required Libraries**\n",
        "\n",
        "We are using the following libraries to complete the task of titanic survival prediction:\n",
        "* Numpy\n",
        "* Pandas\n",
        "* re: To work with regular expressions\n",
        "* Seaborn\n",
        "* Matplotlib\n",
        "* Skelarn etc."
      ],
      "metadata": {
        "id": "_PUCSf9fORxb"
      }
    },
    {
      "cell_type": "code",
      "execution_count": null,
      "metadata": {
        "id": "0I6w9m7kdRUa"
      },
      "outputs": [],
      "source": [
        "import tensorflow as tf\n",
        "from tensorflow.keras.models import Sequential\n",
        "from tensorflow.keras.layers import Dense, Conv2D, Dropout, Flatten, MaxPooling2D\n",
        "import matplotlib.pyplot as plt"
      ]
    },
    {
      "cell_type": "markdown",
      "source": [
        "##**Downloading dataset from tenserflow**\n",
        "\n",
        "The dataset we will be using in this tutorial is called the MNIST dataset, and it is a classic in the machine learning community. This dataset is made up of images of handwritten digits, 28x28 pixels in size. Here are some examples of the digits included in the dataset."
      ],
      "metadata": {
        "id": "G9hrnsIBOYn0"
      }
    },
    {
      "cell_type": "code",
      "source": [
        "(x_train, y_train), (x_test, y_test) = tf.keras.datasets.mnist.load_data()"
      ],
      "metadata": {
        "id": "QmmSL4PSOIRv"
      },
      "execution_count": null,
      "outputs": []
    },
    {
      "cell_type": "markdown",
      "source": [
        "## **Data Reshaping**\n",
        "Data Reshaping in R is about changing the way data is organized into rows and columns.The reshape() function shapes an array without changing the data of the array."
      ],
      "metadata": {
        "id": "SoQt4q4nOk58"
      }
    },
    {
      "cell_type": "code",
      "source": [
        "x_train_df = x_train.reshape(x_train.shape[0], 28, 28, 1)\n",
        "x_test_df = x_test.reshape(x_test.shape[0], 28, 28, 1)\n",
        "input_shape = (28, 28, 1)"
      ],
      "metadata": {
        "id": "lgHtiiY4dqs8"
      },
      "execution_count": null,
      "outputs": []
    },
    {
      "cell_type": "code",
      "source": [
        "x_train_df = x_train_df.astype('float32')\n",
        "x_test_df = x_test_df.astype('float32')"
      ],
      "metadata": {
        "id": "Elzd0br6dt-K"
      },
      "execution_count": null,
      "outputs": []
    },
    {
      "cell_type": "code",
      "source": [
        "x_train_df /= 255\n",
        "x_test_df /= 255"
      ],
      "metadata": {
        "id": "6YhtzmfFdyYk"
      },
      "execution_count": null,
      "outputs": []
    },
    {
      "cell_type": "markdown",
      "source": [
        "##**Model Building**\n",
        " Machine learning models are created by training algorithms with either labeled or unlabeled data, or a mix of both."
      ],
      "metadata": {
        "id": "Y1IYu3BIO1XC"
      }
    },
    {
      "cell_type": "code",
      "source": [
        "\n",
        "nn_model = Sequential()\n",
        "nn_model.add(Conv2D(28, kernel_size=(3,3), input_shape=input_shape))\n",
        "nn_model.add(MaxPooling2D(pool_size=(2, 2)))\n",
        "nn_model.add(Flatten())\n",
        "nn_model.add(Dense(128, activation=tf.nn.relu))\n",
        "nn_model.add(Dropout(0.2))\n",
        "nn_model.add(Dense(10,activation=tf.nn.softmax))"
      ],
      "metadata": {
        "id": "Edtx7rI-d1Dl"
      },
      "execution_count": null,
      "outputs": []
    },
    {
      "cell_type": "code",
      "source": [
        "nn_model.compile(optimizer='adam', loss='sparse_categorical_crossentropy', metrics=['accuracy'])\n",
        "nn_model.fit(x=x_train,y=y_train, epochs=8)"
      ],
      "metadata": {
        "colab": {
          "base_uri": "https://localhost:8080/"
        },
        "id": "W4uOP7P8d3K2",
        "outputId": "33e58395-bdb0-4fae-df22-71f39eab872c"
      },
      "execution_count": null,
      "outputs": [
        {
          "output_type": "stream",
          "name": "stdout",
          "text": [
            "Epoch 1/8\n",
            "1875/1875 [==============================] - 38s 20ms/step - loss: 0.8726 - accuracy: 0.8460\n",
            "Epoch 2/8\n",
            "1875/1875 [==============================] - 36s 19ms/step - loss: 0.2716 - accuracy: 0.9241\n",
            "Epoch 3/8\n",
            "1875/1875 [==============================] - 35s 19ms/step - loss: 0.2099 - accuracy: 0.9400\n",
            "Epoch 4/8\n",
            "1875/1875 [==============================] - 36s 19ms/step - loss: 0.1868 - accuracy: 0.9486\n",
            "Epoch 5/8\n",
            "1875/1875 [==============================] - 36s 19ms/step - loss: 0.1726 - accuracy: 0.9528\n",
            "Epoch 6/8\n",
            "1875/1875 [==============================] - 36s 19ms/step - loss: 0.1569 - accuracy: 0.9564\n",
            "Epoch 7/8\n",
            "1875/1875 [==============================] - 36s 19ms/step - loss: 0.1765 - accuracy: 0.9534\n",
            "Epoch 8/8\n",
            "1875/1875 [==============================] - 36s 19ms/step - loss: 0.1341 - accuracy: 0.9643\n"
          ]
        },
        {
          "output_type": "execute_result",
          "data": {
            "text/plain": [
              "<keras.src.callbacks.History at 0x7bed46e1c430>"
            ]
          },
          "metadata": {},
          "execution_count": 22
        }
      ]
    },
    {
      "cell_type": "markdown",
      "source": [
        "##**Testing of Model**\n",
        "Model testing is referred to as the process where the performance of a fully trained model is evaluated on a testing set."
      ],
      "metadata": {
        "id": "deZDePTfOxpL"
      }
    },
    {
      "cell_type": "code",
      "source": [
        "index_number = int(input('Enter the index number of image (max 10000): '))"
      ],
      "metadata": {
        "colab": {
          "base_uri": "https://localhost:8080/"
        },
        "id": "iDoR60iheC42",
        "outputId": "e69c8fea-584d-41bc-96fe-bea151b48aed"
      },
      "execution_count": null,
      "outputs": [
        {
          "name": "stdout",
          "output_type": "stream",
          "text": [
            "Enter the index number of image (max 10000): 556\n"
          ]
        }
      ]
    },
    {
      "cell_type": "code",
      "source": [
        "plt.imshow(x_test[index_number].reshape(28, 28),cmap='Greys')\n",
        "prediction = x_test[index_number].reshape(28,28)\n",
        "model_predict = nn_model.predict(x_test[index_number].reshape(1, 28, 28, 1))\n",
        "print(model_predict.argmax())"
      ],
      "metadata": {
        "colab": {
          "base_uri": "https://localhost:8080/",
          "height": 465
        },
        "id": "nTJLZdekSAYy",
        "outputId": "dcb7d88c-3f0c-4509-d6d1-7dd1c176f84a"
      },
      "execution_count": null,
      "outputs": [
        {
          "output_type": "stream",
          "name": "stdout",
          "text": [
            "1/1 [==============================] - 0s 68ms/step\n",
            "4\n"
          ]
        },
        {
          "output_type": "display_data",
          "data": {
            "text/plain": [
              "<Figure size 640x480 with 1 Axes>"
            ],
            "image/png": "[encoded data removed]"
          },
          "metadata": {}
        }
      ]
    },
    {
      "cell_type": "markdown",
      "source": [
        "##**Model Evaluation**\n",
        "\n",
        "We will be evaluating our model by calculating the accuracy of the model using testing dataset."
      ],
      "metadata": {
        "id": "6Cx1Fp9EOtAx"
      }
    },
    {
      "cell_type": "code",
      "source": [
        "nn_model.evaluate(x_test, y_test)"
      ],
      "metadata": {
        "colab": {
          "base_uri": "https://localhost:8080/"
        },
        "id": "Vonyn9znd5ic",
        "outputId": "5e8c1ca9-9c5d-419d-82ed-dd859a533aa6"
      },
      "execution_count": null,
      "outputs": [
        {
          "output_type": "stream",
          "name": "stdout",
          "text": [
            "313/313 [==============================] - 2s 6ms/step - loss: 0.1300 - accuracy: 0.9719\n"
          ]
        },
        {
          "output_type": "execute_result",
          "data": {
            "text/plain": [
              "[0.12997132539749146, 0.9718999862670898]"
            ]
          },
          "metadata": {},
          "execution_count": 25
        }
      ]
    }
  ]
}